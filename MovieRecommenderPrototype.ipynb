{
  "nbformat": 4,
  "nbformat_minor": 0,
  "metadata": {
    "colab": {
      "provenance": [],
      "authorship_tag": "ABX9TyMKxEhulEkguTfP7qMnxg5F",
      "include_colab_link": true
    },
    "kernelspec": {
      "name": "python3",
      "display_name": "Python 3"
    },
    "language_info": {
      "name": "python"
    }
  },
  "cells": [
    {
      "cell_type": "markdown",
      "metadata": {
        "id": "view-in-github",
        "colab_type": "text"
      },
      "source": [
        "<a href=\"https://colab.research.google.com/github/MoezVellani/Movie-Recommendation-System-P3/blob/main/MovieRecommenderPrototype.ipynb\" target=\"_parent\"><img src=\"https://colab.research.google.com/assets/colab-badge.svg\" alt=\"Open In Colab\"/></a>"
      ]
    },
    {
      "cell_type": "code",
      "execution_count": null,
      "metadata": {
        "id": "oDvF73XXZ9YZ"
      },
      "outputs": [],
      "source": [
        "# Import necessary libraries\n",
        "import pandas as pd\n",
        "from sklearn.feature_extraction.text import TfidfVectorizer\n",
        "from sklearn.metrics.pairwise import linear_kernel\n",
        "!pip install gradio\n",
        "import gradio as gr"
      ]
    },
    {
      "cell_type": "code",
      "source": [
        "# Load dataset\n",
        "from google.colab import drive\n",
        "drive.mount('/content/drive')\n",
        "df = pd.read_csv('/content/drive/MyDrive/imdb_movies.csv')"
      ],
      "metadata": {
        "colab": {
          "base_uri": "https://localhost:8080/"
        },
        "id": "tk21qjJiaDVc",
        "outputId": "d24c072b-61fb-4244-ee81-8a0cd635bb2d"
      },
      "execution_count": 3,
      "outputs": [
        {
          "output_type": "stream",
          "name": "stdout",
          "text": [
            "Mounted at /content/drive\n"
          ]
        }
      ]
    },
    {
      "cell_type": "code",
      "source": [
        "# Define function to recommend movies based on genre or overview\n",
        "def recommend_movies(input_text):\n",
        "    # Filter movies based on genre or overview\n",
        "    if input_text in df['genre'].values:\n",
        "        filtered_df = df[df['genre'] == input_text]\n",
        "    else:\n",
        "        # Use TF-IDF vectorization for movie overviews\n",
        "        tfidf_vectorizer = TfidfVectorizer(stop_words='english')\n",
        "        tfidf_matrix = tfidf_vectorizer.fit_transform(df['overview'])\n",
        "\n",
        "        # Calculate cosine similarity between input text and movie overviews\n",
        "        input_vector = tfidf_vectorizer.transform([input_text])\n",
        "        cosine_similarities = linear_kernel(input_vector, tfidf_matrix).flatten()\n",
        "\n",
        "        # Get indices of movies with highest similarity scores\n",
        "        top_indices = cosine_similarities.argsort()[-5:][::-1]\n",
        "        filtered_df = df.iloc[top_indices]\n",
        "\n",
        "    # Return recommended movies\n",
        "    return filtered_df[['orig_title', 'genre', 'overview']]"
      ],
      "metadata": {
        "id": "xUXxgniRaDYK"
      },
      "execution_count": 4,
      "outputs": []
    },
    {
      "cell_type": "code",
      "source": [
        "# Create Gradio interface\n",
        "input_text = gr.Textbox(label=\"Enter a genre or movie overview:\")\n",
        "output_text = gr.Textbox(label=\"Output\")\n",
        "movie_recommender = gr.Interface(fn=recommend_movies, inputs=input_text, outputs=output_text, title=\"Movie Recommender\", description=\"Enter movie genre or overview.\").launch()\n"
      ],
      "metadata": {
        "colab": {
          "base_uri": "https://localhost:8080/",
          "height": 626
        },
        "id": "eDSoeWZhaDcg",
        "outputId": "7341711c-b266-45f8-8ce5-1928194c75a6"
      },
      "execution_count": 16,
      "outputs": [
        {
          "output_type": "stream",
          "name": "stdout",
          "text": [
            "Setting queue=True in a Colab notebook requires sharing enabled. Setting `share=True` (you can turn this off by setting `share=False` in `launch()` explicitly).\n",
            "\n",
            "Colab notebook detected. To show errors in colab notebook, set debug=True in launch()\n",
            "Running on public URL: https://713ac48d245e11b9ff.gradio.live\n",
            "\n",
            "This share link expires in 72 hours. For free permanent hosting and GPU upgrades, run `gradio deploy` from Terminal to deploy to Spaces (https://huggingface.co/spaces)\n"
          ]
        },
        {
          "output_type": "display_data",
          "data": {
            "text/plain": [
              "<IPython.core.display.HTML object>"
            ],
            "text/html": [
              "<div><iframe src=\"https://713ac48d245e11b9ff.gradio.live\" width=\"100%\" height=\"500\" allow=\"autoplay; camera; microphone; clipboard-read; clipboard-write;\" frameborder=\"0\" allowfullscreen></iframe></div>"
            ]
          },
          "metadata": {}
        }
      ]
    },
    {
      "cell_type": "code",
      "source": [],
      "metadata": {
        "id": "u7hqnwKdchK2"
      },
      "execution_count": null,
      "outputs": []
    }
  ]
}